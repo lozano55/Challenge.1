{
 "cells": [
  {
   "cell_type": "code",
   "execution_count": null,
   "id": "a08006bc-83f6-4940-a0d2-2c720ef392e6",
   "metadata": {},
   "outputs": [],
   "source": [
    "#This will be a Clean .ipynb File Containing the same Code for loan_analyzer.py, without the comments "
   ]
  },
  {
   "cell_type": "code",
   "execution_count": null,
   "id": "a5d631f7-c762-49c0-8886-1b34ccecc7d1",
   "metadata": {},
   "outputs": [],
   "source": []
  }
 ],
 "metadata": {
  "kernelspec": {
   "display_name": "Python 3 (ipykernel)",
   "language": "python",
   "name": "python3"
  },
  "language_info": {
   "codemirror_mode": {
    "name": "ipython",
    "version": 3
   },
   "file_extension": ".py",
   "mimetype": "text/x-python",
   "name": "python",
   "nbconvert_exporter": "python",
   "pygments_lexer": "ipython3",
   "version": "3.7.13"
  }
 },
 "nbformat": 4,
 "nbformat_minor": 5
}
