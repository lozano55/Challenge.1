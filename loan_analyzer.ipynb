{
 "cells": [
  {
   "cell_type": "code",
   "execution_count": null,
   "id": "a08006bc-83f6-4940-a0d2-2c720ef392e6",
   "metadata": {},
   "outputs": [],
   "source": [
    "#This will be a Clean .ipynb File Containing the same Code for loan_analyzer.py, without the comments "
   ]
  },
  {
   "cell_type": "code",
   "execution_count": 13,
   "id": "a5d631f7-c762-49c0-8886-1b34ccecc7d1",
   "metadata": {},
   "outputs": [
    {
     "name": "stdout",
     "output_type": "stream",
     "text": [
      "Loan: 1 is a total of: $500\n",
      "Loan: 2 is a total of: $600\n",
      "Loan: 3 is a total of: $200\n",
      "Loan: 4 is a total of: $1000\n",
      "Loan: 5 is a total of: $450\n",
      "The average Price per Loan is: $550.00\n"
     ]
    }
   ],
   "source": [
    "#Copy of loan_analyzer.py Part 1\n",
    "\n",
    "import csv\n",
    "from pathlib import Path\n",
    "\n",
    "loan_costs = [500, 600, 200, 1000, 450]\n",
    "loan_number = 0\n",
    "\n",
    "for loan in loan_costs:\n",
    "    number_of_loans = len(loan_costs)\n",
    "    total_value = sum(loan_costs)\n",
    "    average_loan = total_value / number_of_loans\n",
    "    loan_number = loan_number + 1\n",
    "    print(f\"Loan: {loan_number} is a total of: ${loan}\")\n",
    "    \n",
    "    \n",
    "print(f\"The average Price per Loan is: ${average_loan:.2f}\")"
   ]
  },
  {
   "cell_type": "code",
   "execution_count": 42,
   "id": "7cd85ee8-93d3-4e91-adcf-c40895c1c323",
   "metadata": {},
   "outputs": [
    {
     "name": "stdout",
     "output_type": "stream",
     "text": [
      "The Future Value is: $1000 & The Remaining months are 9\n",
      "\n",
      "This is our 'Present Value' Not Rounded: $861.7727126032183\n",
      "This is our 'Present Value' Rounded: $861.77\n",
      "The loan is worth at least the cost to buy it.\n",
      "\n",
      "Yes, It Makes Sense to Buy at the current cost which is $500, this is because we will be recieving our\n",
      "minimum return rate of: 0.20(20%), aswell as an additional Bonus: $361.77 which is\n",
      "This was determined through 'Present Value' minus the 'current cost' \n"
     ]
    }
   ],
   "source": [
    "#Copy of loan_analyzer.py Part 2\n",
    "\n",
    "loan = {\n",
    "    \"loan_price\": 500,\n",
    "    \"remaining_months\": 9,\n",
    "    \"repayment_interval\": \"bullet\",\n",
    "    \"future_value\": 1000,\n",
    "}\n",
    "\n",
    "future_value = loan.get(\"future_value\")\n",
    "remaining_months = loan.get(\"remaining_months\")\n",
    "\n",
    "print(f\"The Future Value is: ${future_value} & The Remaining months are {remaining_months}\")\n",
    "\n",
    "\n",
    "annual_discount_rate = 0.20\n",
    "\n",
    "#Present Value = Future Value / (1+ Annual_Discount_Rate/12)**Months\n",
    "present_value = future_value / (1+ annual_discount_rate/12)**remaining_months\n",
    "\n",
    "print()\n",
    "print(f\"This is our 'Present Value' Not Rounded: ${present_value}\")\n",
    "print(f\"This is our 'Present Value' Rounded: ${present_value:.2f}\")\n",
    "\n",
    "loan_cost = loan.get(\"loan_price\")\n",
    "value = present_value - loan_cost\n",
    "\n",
    "if present_value >= loan_cost:\n",
    "    print(\"The loan is worth at least the cost to buy it.\")\n",
    "    \n",
    "elif present_value < loan_cost:\n",
    "    print(\"The loan is too expensive,and not worth the price.\")\n",
    "    \n",
    "print()\n",
    "print(f\"Yes, It Makes Sense to Buy at the current cost which is ${loan_cost}, this is because we will be recieving our\")\n",
    "print(f\"minimum return rate of: {annual_discount_rate:.2f}(20%), aswell as an additional Bonus: ${value:.2f} which is\")\n",
    "print(f\"This was determined through 'Present Value' minus the 'current cost' \")\n",
    "      \n"
   ]
  },
  {
   "cell_type": "code",
   "execution_count": null,
   "id": "684b35c2-c778-4efb-8356-3c9762479db0",
   "metadata": {},
   "outputs": [],
   "source": [
    "#Copy of loan_analyzer.py Part 3\n"
   ]
  }
 ],
 "metadata": {
  "kernelspec": {
   "display_name": "Python 3 (ipykernel)",
   "language": "python",
   "name": "python3"
  },
  "language_info": {
   "codemirror_mode": {
    "name": "ipython",
    "version": 3
   },
   "file_extension": ".py",
   "mimetype": "text/x-python",
   "name": "python",
   "nbconvert_exporter": "python",
   "pygments_lexer": "ipython3",
   "version": "3.7.13"
  }
 },
 "nbformat": 4,
 "nbformat_minor": 5
}
