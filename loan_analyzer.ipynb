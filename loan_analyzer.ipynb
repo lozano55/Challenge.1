{
 "cells": [
  {
   "cell_type": "code",
   "execution_count": null,
   "id": "a08006bc-83f6-4940-a0d2-2c720ef392e6",
   "metadata": {},
   "outputs": [],
   "source": [
    "#This will be a Clean .ipynb File Containing the same Code for loan_analyzer.py, without the comments "
   ]
  },
  {
   "cell_type": "code",
   "execution_count": 13,
   "id": "a5d631f7-c762-49c0-8886-1b34ccecc7d1",
   "metadata": {},
   "outputs": [
    {
     "name": "stdout",
     "output_type": "stream",
     "text": [
      "Loan: 1 is a total of: $500\n",
      "Loan: 2 is a total of: $600\n",
      "Loan: 3 is a total of: $200\n",
      "Loan: 4 is a total of: $1000\n",
      "Loan: 5 is a total of: $450\n",
      "The average Price per Loan is: $550.00\n"
     ]
    }
   ],
   "source": [
    "#Copy of loan_analyzer.py Part 1\n",
    "\n",
    "import csv\n",
    "from pathlib import Path\n",
    "\n",
    "loan_costs = [500, 600, 200, 1000, 450]\n",
    "loan_number = 0\n",
    "\n",
    "for loan in loan_costs:\n",
    "    number_of_loans = len(loan_costs)\n",
    "    total_value = sum(loan_costs)\n",
    "    average_loan = total_value / number_of_loans\n",
    "    loan_number = loan_number + 1\n",
    "    print(f\"Loan: {loan_number} is a total of: ${loan}\")\n",
    "    \n",
    "    \n",
    "print(f\"The average Price per Loan is: ${average_loan:.2f}\")"
   ]
  },
  {
   "cell_type": "code",
   "execution_count": null,
   "id": "7cd85ee8-93d3-4e91-adcf-c40895c1c323",
   "metadata": {},
   "outputs": [],
   "source": [
    "#Copy of loan_analyzer.py Part 2\n"
   ]
  }
 ],
 "metadata": {
  "kernelspec": {
   "display_name": "Python 3 (ipykernel)",
   "language": "python",
   "name": "python3"
  },
  "language_info": {
   "codemirror_mode": {
    "name": "ipython",
    "version": 3
   },
   "file_extension": ".py",
   "mimetype": "text/x-python",
   "name": "python",
   "nbconvert_exporter": "python",
   "pygments_lexer": "ipython3",
   "version": "3.7.13"
  }
 },
 "nbformat": 4,
 "nbformat_minor": 5
}
